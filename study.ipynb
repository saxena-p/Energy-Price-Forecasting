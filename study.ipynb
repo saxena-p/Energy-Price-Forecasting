{
 "cells": [
  {
   "cell_type": "markdown",
   "id": "6797d48f",
   "metadata": {},
   "source": [
    "This notebook presents a step-by-step tutorial on using the developed packages for price forecasting."
   ]
  },
  {
   "cell_type": "code",
   "execution_count": null,
   "id": "c287f17e",
   "metadata": {},
   "outputs": [],
   "source": [
    "import pandas as pd\n",
    "import numpy as np"
   ]
  }
 ],
 "metadata": {
  "kernelspec": {
   "display_name": ".venv",
   "language": "python",
   "name": "python3"
  },
  "language_info": {
   "name": "python",
   "version": "3.9.6"
  }
 },
 "nbformat": 4,
 "nbformat_minor": 5
}
