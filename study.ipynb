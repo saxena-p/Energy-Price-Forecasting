{
 "cells": [
  {
   "cell_type": "markdown",
   "id": "6797d48f",
   "metadata": {},
   "source": [
    "This notebook presents a step-by-step tutorial on using the developed packages for price forecasting."
   ]
  },
  {
   "cell_type": "code",
   "execution_count": null,
   "id": "d894b704",
   "metadata": {},
   "outputs": [],
   "source": [
    "# Add package folder to Python path\n",
    "import sys\n",
    "sys.path.append('./')\n",
    "import forecasting as fr\n",
    "import importlib\n",
    "import pandas as pd\n",
    "importlib.reload(fr.get_data)\n",
    "importlib.reload(fr.model)\n",
    "import matplotlib.pyplot as plt\n",
    "from matplotlib.ticker import MaxNLocator\n",
    "import matplotlib.dates as mdates\n",
    "\n",
    "from sklearn.model_selection import TimeSeriesSplit\n",
    "from sklearn.metrics import mean_absolute_percentage_error\n",
    "\n",
    "import tensorflow as tf"
   ]
  },
  {
   "cell_type": "markdown",
   "id": "7513543a",
   "metadata": {},
   "source": [
    "## Data acquisition\n",
    "\n",
    "Import the data as a dataframe. The helper function cleans up the data from API and only gives price and volume data.\n",
    "\n",
    "NG ESO API - The API is *inclusive* of start date and *exclusive* of the end date."
   ]
  },
  {
   "cell_type": "code",
   "execution_count": null,
   "id": "268c47b1",
   "metadata": {},
   "outputs": [],
   "source": [
    "query_start_date = '2024-06-10'\n",
    "query_end_date = '2025-06-10'\n",
    "\n",
    "dcl_data = fr.get_data.get_historical_fr_data_price_volume(query_start_date, query_end_date)"
   ]
  },
  {
   "cell_type": "code",
   "execution_count": null,
   "id": "5f63c5fc",
   "metadata": {},
   "outputs": [],
   "source": [
    "dcl_data.head()"
   ]
  },
  {
   "cell_type": "markdown",
   "id": "8b30183c",
   "metadata": {},
   "source": [
    "## Naive forecast"
   ]
  },
  {
   "cell_type": "code",
   "execution_count": null,
   "id": "2542db2a",
   "metadata": {},
   "outputs": [],
   "source": [
    "# Calculate the naive forecast using a rolling average for both price and volume\n",
    "# Give the data for days -1 (index -7 onwards) to -8 (until index -49) and verify the forecast for day 0.\n",
    "\n",
    "price_naive_forecast = fr.model.rolling_average_multi_timeperiod(7, 6, dcl_data['clearingPrice'].iloc[:-6])\n",
    "volume_naive_forecast = fr.model.rolling_average_multi_timeperiod(7, 6, dcl_data['clearedVolume'].iloc[:-6])\n",
    "\n",
    "# Compare the naive forecast with the actual values for day 0\n",
    "# Calculate the MAPE\n",
    "mape_price_naive = mean_absolute_percentage_error(dcl_data['clearingPrice'].iloc[-6:], price_naive_forecast)\n",
    "mape_volume_naive = mean_absolute_percentage_error(dcl_data['clearedVolume'].iloc[-6:], volume_naive_forecast)"
   ]
  },
  {
   "cell_type": "code",
   "execution_count": null,
   "id": "d25f44a4",
   "metadata": {},
   "outputs": [],
   "source": [
    "fig, (ax1, ax2) = plt.subplots(1, 2, figsize=(12, 6))\n",
    "\n",
    "timestamp = dcl_data.index[-6:]\n",
    "\n",
    "# First the price plot\n",
    "ax1.plot(timestamp, dcl_data['clearingPrice'].iloc[-6:], marker='o', linestyle='-', color='blue', label='Actual Prices')\n",
    "ax1.plot(timestamp, price_naive_forecast, marker='o', linestyle='-', color='red', label='Naive Forecast Prices')\n",
    "\n",
    "ax1.set_xlabel('Delivery Start Time')\n",
    "ax1.set_ylabel('Clearing Price (£/MWh)')\n",
    "ax1.set_title('Price comparison. MAPE: {:.2f}%'.format(mape_price_naive * 100))\n",
    "ax1.legend()\n",
    "\n",
    "ax1.set_xticks(timestamp) # Shows ticks only at actual data points\n",
    "ax1.set_xticklabels(timestamp.strftime(\"%H:%M\"), rotation=0) # Shows only the hour and minute\n",
    "ax1.grid(True)\n",
    "\n",
    "# Next the volume plot\n",
    "ax2.plot(timestamp, dcl_data['clearedVolume'].iloc[-6:], marker='o', linestyle='-', color='blue', label='Actual Volume')\n",
    "ax2.plot(timestamp, volume_naive_forecast, marker='o', linestyle='-', color='red', label='Naive Forecast Volume')\n",
    "\n",
    "ax2.set_xlabel('Delivery Start Time')\n",
    "ax2.set_ylabel('Clearing Volume (MWh)')\n",
    "ax2.set_title('Volume comparison. MAPE: {:.2f}%'.format(mape_volume_naive * 100))\n",
    "ax2.legend()\n",
    "ax2.set_xticks(timestamp) # Shows ticks only at actual data points\n",
    "ax2.set_xticklabels(timestamp.strftime(\"%H:%M\"), rotation=0) # Shows only the hour and minute\n",
    "ax2.grid(True)\n",
    "\n",
    "\n",
    "plt.tight_layout()\n",
    "plt.show()"
   ]
  },
  {
   "cell_type": "markdown",
   "id": "e58c6f1c",
   "metadata": {},
   "source": [
    "The naive forecast is... well... naive. It gives an error of over 51% for the prices which is quite rubbish. It's also worth noting from the above figure that the predictions are very much off for the first three time-steps, but quite good for the last three timesteps.\n",
    "\n",
    "The forecast is quite accurate for volume prediction, however.\n",
    "\n",
    "Time to use a deep learning model."
   ]
  },
  {
   "cell_type": "markdown",
   "id": "4718a1ea",
   "metadata": {},
   "source": [
    "## Forecasting using LSTM"
   ]
  },
  {
   "cell_type": "markdown",
   "id": "ae982ca8",
   "metadata": {},
   "source": [
    "Autocorrelation analysis (in a different notebook) suggests that the time-series data has a good correlation with lags of 6, 12, and 18 timesteps. So we use that to generate lagged features for our LSTM model."
   ]
  },
  {
   "cell_type": "code",
   "execution_count": null,
   "id": "82a33bd6",
   "metadata": {},
   "outputs": [],
   "source": [
    "lag_times = [6, 12, 18]\n",
    "\n",
    "# Create lagged features for the specified lag times\n",
    "for lag in lag_times:\n",
    "    dcl_data[f'Price_lag_{lag}'] = dcl_data['clearingPrice'].shift(lag)\n",
    "    # dcl_data[f'Volume_lag_{lag}'] = dcl_data['clearedVolume'].shift(lag)\n",
    "\n",
    "# Just one lag for volume\n",
    "dcl_data[f'Volume_lag_{6}'] = dcl_data['clearedVolume'].shift(6)\n",
    "\n",
    "print(\"Lagged features created for both price and volume lags:\", lag_times)\n",
    "\n",
    "# Drop rows that don't have enough history for the lagged features\n",
    "dcl_data = dcl_data.dropna()\n",
    "\n",
    "# print(\"First few rows of the dataframe are: \\n\", dcl_data.head())\n",
    "# print(\"Last few rows of the dataframe are: \\n\", dcl_data.tail())"
   ]
  },
  {
   "cell_type": "code",
   "execution_count": null,
   "id": "74d94fd9",
   "metadata": {},
   "outputs": [],
   "source": [
    "# Split the dataset into training and validation sets\n",
    "tscv = TimeSeriesSplit(n_splits=2)\n",
    "for train_index, test_index in tscv.split(dcl_data):\n",
    "    X_train, X_valid = dcl_data.iloc[train_index], dcl_data.iloc[test_index]\n",
    "\n",
    "print(\"Train shape:\", X_train.shape, \"Validation shape:\", X_valid.shape)\n",
    "print(\"Original data shape:\", dcl_data.shape)"
   ]
  },
  {
   "cell_type": "code",
   "execution_count": null,
   "id": "3d88b3f6",
   "metadata": {},
   "outputs": [],
   "source": [
    "# Define the LSTM parameters\n",
    "WINDOW_SIZE = 24\n",
    "BATCH_SIZE = 32\n",
    "SHUFFLE_BUFFER_SIZE = 1000"
   ]
  },
  {
   "cell_type": "code",
   "execution_count": null,
   "id": "5da62656",
   "metadata": {},
   "outputs": [],
   "source": [
    "# Generate the dataset windows that go into the LSTM model\n",
    "\n",
    "series_train = X_train['clearingPrice'].values\n",
    "X_lag_train = X_train.drop(columns=['clearingPrice', 'clearedVolume']).values\n",
    "series_train = tf.convert_to_tensor(series_train, dtype=tf.float32)\n",
    "X_lag_train = tf.convert_to_tensor(X_lag_train, dtype=tf.float32)\n",
    "\n",
    "series_valid = X_valid['clearingPrice'].values\n",
    "X_lag_valid = X_valid.drop(columns=['clearingPrice', 'clearedVolume']).values\n",
    "series_valid = tf.convert_to_tensor(series_valid, dtype=tf.float32)\n",
    "X_lag_valid = tf.convert_to_tensor(X_lag_valid, dtype=tf.float32)\n",
    "\n",
    "train_set = fr.model.windowed_dataset_multi_input(\n",
    "    series=series_train,\n",
    "    X_lag_full=X_lag_train,\n",
    "    window_size=WINDOW_SIZE,\n",
    "    batch_size=BATCH_SIZE,\n",
    "    shuffle_buffer=SHUFFLE_BUFFER_SIZE\n",
    ")\n",
    "\n",
    "valid_set = fr.model.windowed_dataset_multi_input(\n",
    "    series=series_valid,\n",
    "    X_lag_full=X_lag_valid,\n",
    "    window_size=WINDOW_SIZE,\n",
    "    batch_size=BATCH_SIZE,\n",
    "    shuffle_buffer=SHUFFLE_BUFFER_SIZE\n",
    ")"
   ]
  },
  {
   "cell_type": "code",
   "execution_count": null,
   "id": "1a64fd12",
   "metadata": {},
   "outputs": [],
   "source": [
    "# Get the LSTM model\n",
    "lstm_model = fr.model.get_LSTM_model(\n",
    "    window_size= WINDOW_SIZE,  \n",
    "    learning_rate= 1e-6, \n",
    "    momentum= 0.9, \n",
    "    num_lag_features= dcl_data.shape[1] - 2)\n",
    "print(lstm_model.summary())"
   ]
  },
  {
   "cell_type": "code",
   "execution_count": null,
   "id": "aea26794",
   "metadata": {},
   "outputs": [],
   "source": [
    "# Train the model\n",
    "# Reset states generated by Keras\n",
    "tf.keras.backend.clear_session()\n",
    "\n",
    "# Get initial weights\n",
    "init_weights = lstm_model.get_weights()\n",
    "\n",
    "# Reset the weights\n",
    "lstm_model.set_weights(init_weights)\n",
    "\n",
    "early_stopping = tf.keras.callbacks.EarlyStopping(\n",
    "    monitor='val_loss',\n",
    "    patience= 10,\n",
    "    restore_best_weights=True\n",
    ")\n",
    "\n",
    "# Fit the model\n",
    "history = lstm_model.fit(\n",
    "    train_set,\n",
    "    epochs=100,\n",
    "    validation_data=valid_set,\n",
    "    callbacks=[early_stopping],\n",
    "    verbose=1\n",
    ")"
   ]
  },
  {
   "cell_type": "code",
   "execution_count": null,
   "id": "d36960af",
   "metadata": {},
   "outputs": [],
   "source": [
    "# Check if the training was successful by visualising the training history\n",
    "\n",
    "# Get mae and loss from history log\n",
    "mae=history.history['mae']\n",
    "loss=history.history['loss']\n",
    "\n",
    "# Get number of epochs\n",
    "epochs=range(len(loss)) \n",
    "\n",
    "# Plot mae and loss\n",
    "fr.get_data.plot_series(\n",
    "    x=epochs, \n",
    "    y=(mae, loss), \n",
    "    title='MAE and Loss', \n",
    "    xlabel='Epochs',\n",
    "    legend=['MAE', 'Loss']\n",
    "    )\n"
   ]
  },
  {
   "cell_type": "code",
   "execution_count": null,
   "id": "2b26d8ed",
   "metadata": {},
   "outputs": [],
   "source": [
    "lstm_forecast = fr.model.lstm_forecast_multi_input(\n",
    "    model=lstm_model,\n",
    "    series=series_valid,\n",
    "    X_lag_full=X_lag_valid,\n",
    "    window_size=WINDOW_SIZE,\n",
    "    batch_size=BATCH_SIZE\n",
    ")"
   ]
  },
  {
   "cell_type": "code",
   "execution_count": null,
   "id": "cb2da164",
   "metadata": {},
   "outputs": [],
   "source": [
    "# Calculate the MAPE for the forecast for the last day (6 periods)\n",
    "mape_forecast = mean_absolute_percentage_error(\n",
    "    dcl_data['clearingPrice'].iloc[-6:],\n",
    "    lstm_forecast[-6:]\n",
    ")  \n",
    "print(f\"MAPE for LSTM forecast: {mape_forecast*100:.2f}%\")\n",
    "\n",
    "print(f\"MAPE for naive forecast was: {mape_price_naive*100:.2f}%\")"
   ]
  },
  {
   "cell_type": "code",
   "execution_count": null,
   "id": "95dc761f",
   "metadata": {},
   "outputs": [],
   "source": [
    "plt.figure(figsize=(10, 5))\n",
    "plt.plot(timestamp, X_valid['clearingPrice'].iloc[-6:], marker='o', linestyle='-', color='blue', label='Actual Prices')\n",
    "plt.plot(timestamp, price_naive_forecast, marker='o', linestyle='-', color='red', label='Naive Forecast predictions. MAPE: {:.2f}%'.format(mape_price_naive * 100))\n",
    "plt.plot(timestamp, lstm_forecast[-6:], marker='o', linestyle='-', color='black', label='LSTM (with lags) predictions. MAPE: {:.2f}%'.format(mape_forecast * 100))\n",
    "plt.title('Forecast vs actual prices for the last day')\n",
    "plt.xlabel('Time')\n",
    "plt.ylabel('Price (£/MWh)')\n",
    "plt.legend()\n",
    "plt.grid(True)\n",
    "# Format x-tick labels as HH:MM\n",
    "plt.show()"
   ]
  },
  {
   "cell_type": "code",
   "execution_count": null,
   "id": "ce2a6157",
   "metadata": {},
   "outputs": [],
   "source": []
  }
 ],
 "metadata": {
  "kernelspec": {
   "display_name": ".venv",
   "language": "python",
   "name": "python3"
  },
  "language_info": {
   "codemirror_mode": {
    "name": "ipython",
    "version": 3
   },
   "file_extension": ".py",
   "mimetype": "text/x-python",
   "name": "python",
   "nbconvert_exporter": "python",
   "pygments_lexer": "ipython3",
   "version": "3.9.6"
  }
 },
 "nbformat": 4,
 "nbformat_minor": 5
}
